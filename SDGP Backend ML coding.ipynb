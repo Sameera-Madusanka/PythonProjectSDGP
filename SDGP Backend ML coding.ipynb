{
 "cells": [
  {
   "attachments": {},
   "cell_type": "markdown",
   "metadata": {},
   "source": [
    "SDGP ML backend coding"
   ]
  },
  {
   "cell_type": "code",
   "execution_count": null,
   "metadata": {},
   "outputs": [],
   "source": [
    "#\n",
    "#importing the Dependencies\n",
    "import numpy as np\n",
    "import pandas as pd\n",
    "import re              #regular expression library it is very useful for searching the text ina a document\n",
    "from nltk.corpus import stopwords                                       #nltk- natural language toolkit       #corpus- the body of the particular text \n",
    "from nltk.stem.porter import PorterStemmer                              #stemming function takes a word and removes the prefix and suffix of that word and returns the root word\n",
    "from sklearn.feature_extraction.text import TfidfVectorizer             #TfidfVectorizer - to convert the text into feature vectors (numbers)                                                          \n",
    "from sklearn.model_selection import train_test_split\n",
    "from sklearn.linear_model import LogisticRegressio\n",
    "from sklearn.metrics import accuracy_score\n",
    "\n",
    "\n"
   ]
  }
 ],
 "metadata": {
  "kernelspec": {
   "display_name": "Python 3",
   "language": "python",
   "name": "python3"
  },
  "language_info": {
   "codemirror_mode": {
    "name": "ipython",
    "version": 3
   },
   "file_extension": ".py",
   "mimetype": "text/x-python",
   "name": "python",
   "nbconvert_exporter": "python",
   "pygments_lexer": "ipython3",
   "version": "3.11.1"
  },
  "orig_nbformat": 4,
  "vscode": {
   "interpreter": {
    "hash": "50d39777cec649b77843878029a203b4e2675de6c88ebe9d4fc8cc3b1c7fa4dd"
   }
  }
 },
 "nbformat": 4,
 "nbformat_minor": 2
}
