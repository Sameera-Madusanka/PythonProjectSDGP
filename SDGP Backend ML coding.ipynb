{
 "cells": [
  {
   "attachments": {},
   "cell_type": "markdown",
   "metadata": {},
   "source": [
    "# SDGP ML backend coding"
   ]
  },
  {
   "cell_type": "code",
   "execution_count": 1,
   "metadata": {},
   "outputs": [],
   "source": [
    "\n",
    "#importing the Dependencies\n",
    "import numpy as np\n",
    "import pandas as pd\n",
    "import re              #regular expression library it is very useful for searching the text ina a document\n",
    "from nltk.corpus import stopwords                                       #nltk- natural language toolkit       #corpus- the body of the particular text \n",
    "from nltk.stem.porter import PorterStemmer                              #stemming function takes a word and removes the prefix and suffix of that word and returns the root word\n",
    "from sklearn.feature_extraction.text import TfidfVectorizer             #TfidfVectorizer - to convert the text into feature vectors (numbers)                                                          \n",
    "from sklearn.model_selection import train_test_split\n",
    "from sklearn.linear_model import LogisticRegression\n",
    "from sklearn.metrics import accuracy_score\n"
   ]
  },
  {
   "cell_type": "code",
   "execution_count": null,
   "metadata": {},
   "outputs": [],
   "source": [
    "import nltk\n",
    "nltk.download(\"stopwords\")"
   ]
  },
  {
   "cell_type": "code",
   "execution_count": null,
   "metadata": {},
   "outputs": [],
   "source": [
    "#printing the stopwords in english\n",
    "print(stopwords.words(\"english\"))"
   ]
  },
  {
   "attachments": {},
   "cell_type": "markdown",
   "metadata": {},
   "source": [
    "Data Pre-processing"
   ]
  },
  {
   "cell_type": "code",
   "execution_count": null,
   "metadata": {},
   "outputs": [],
   "source": []
  }
 ],
 "metadata": {
  "kernelspec": {
   "display_name": "base",
   "language": "python",
   "name": "python3"
  },
  "language_info": {
   "codemirror_mode": {
    "name": "ipython",
    "version": 3
   },
   "file_extension": ".py",
   "mimetype": "text/x-python",
   "name": "python",
   "nbconvert_exporter": "python",
   "pygments_lexer": "ipython3",
   "version": "3.9.13"
  },
  "orig_nbformat": 4,
  "vscode": {
   "interpreter": {
    "hash": "5d08bf972a21dcce647bf167e509a0b8150549bebc00cf9fdc66fba0fda6ab31"
   }
  }
 },
 "nbformat": 4,
 "nbformat_minor": 2
}
